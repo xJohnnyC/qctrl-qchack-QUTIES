{
 "cells": [
  {
   "cell_type": "code",
   "execution_count": 6,
   "metadata": {},
   "outputs": [],
   "source": [
    "import matplotlib.pyplot as plt\n",
    "import numpy as np\n",
    "from qctrlvisualizer import get_qctrl_style, plot_controls\n",
    "\n",
    "from qctrl import Qctrl\n",
    "qctrl= Qctrl(email='jcc395@cornell.edu',password='Jawknee2287!')\n",
    "\n",
    "def x_run():\n",
    "\n",
    "    controls=[]\n",
    "    control_count = 1\n",
    "#     segment_count = 141\n",
    "    #duration =1/(2*rabi)\n",
    "#     duration = 74.2357 # original\n",
    "    duration = 73.2357   # current best\n",
    "    duration = 73.200 #this one is better actually\n",
    "    shot_count = 5000\n",
    "#     a = np.ones((10, ))\n",
    "#     b = np.zeros((102, ))\n",
    "#     c = np.ones((29, ))\n",
    "\n",
    "    segment_count = 223\n",
    "    a = np.ones((16, ))\n",
    "    b = np.zeros((161, ))\n",
    "    c = np.ones((46, ))\n",
    "    values = np.hstack((a, b, c))\n",
    "#     values = np.hstack((values,values))\n",
    "    controls.append({\"duration\": duration, \"values\": values})\n",
    "\n",
    "    experiment_results = qctrl.functions.calculate_qchack_measurements(\n",
    "        controls=controls,\n",
    "        shot_count=shot_count,\n",
    "    )\n",
    "    infidelity=np.average([experiment_results.measurements])  \n",
    "    return(infidelity)\n",
    "\n",
    "#Now Hadamard\n",
    "\n",
    "def hadamard_run():\n",
    "\n",
    "    controls=[]\n",
    "    control_count = 1\n",
    "    \n",
    "    segment_count = 225\n",
    "    a = np.ones((20, ))\n",
    "    b = np.zeros((205, ))\n",
    "    values = np.hstack((a, b))\n",
    "#     duration = 59.0179\n",
    "    duration = 58.02\n",
    "    shot_count = 5000\n",
    "    controls.append({\"duration\": duration, \"values\": values})\n",
    "    experiment_results = qctrl.functions.calculate_qchack_measurements(\n",
    "        controls=controls,\n",
    "        shot_count=shot_count,\n",
    "    )\n",
    "\n",
    "    superposition_metric=np.average([experiment_results.measurements])  \n",
    "    return(0.5-superposition_metric)\n",
    "\n",
    "def hadamard_double_run():\n",
    "\n",
    "    controls=[]\n",
    "    control_count = 1\n",
    "    \n",
    "    segment_count = 226\n",
    "    a = np.ones((10, ))\n",
    "    b = np.zeros((103, ))\n",
    "    values = np.hstack((a, b))\n",
    "    values = np.hstack((values, values))\n",
    "#     duration = 2*59.0179\n",
    "    duration = 2*58.025\n",
    "    shot_count = 5000\n",
    "    controls.append({\"duration\": duration, \"values\": values})\n",
    "    experiment_results = qctrl.functions.calculate_qchack_measurements(\n",
    "        controls=controls,\n",
    "        shot_count=shot_count,\n",
    "    )\n",
    "\n",
    "    zero_pop=np.average([experiment_results.measurements])  \n",
    "    #return(1-0.5*0.01005305989-zero_pop)\n",
    "    return(1-zero_pop)\n"
   ]
  },
  {
   "cell_type": "code",
   "execution_count": null,
   "metadata": {},
   "outputs": [],
   "source": [
    "#Note that we also tested double application of x-gate."
   ]
  },
  {
   "cell_type": "code",
   "execution_count": 2,
   "metadata": {},
   "outputs": [],
   "source": [
    "import jsonpickle.ext.numpy as jsonpickle_numpy\n",
    "import jsonpickle\n",
    "import numpy as np\n",
    "\n",
    "jsonpickle_numpy.register_handlers()\n",
    "\n",
    "a = np.ones((20, ))\n",
    "b = np.zeros((205, ))\n",
    "values = np.hstack((a, b))\n",
    "\n",
    "h_control = {\"duration\": 58.02, \"values\": values}\n",
    "h_gate_pulse = jsonpickle.encode(h_control)\n",
    "\n",
    "with open(\"h_gate_pulse.json\", \"w\") as file:\n",
    "    file.write(h_gate_pulse)"
   ]
  },
  {
   "cell_type": "code",
   "execution_count": 7,
   "metadata": {},
   "outputs": [
    {
     "name": "stderr",
     "output_type": "stream",
     "text": [
      "100%|██████████| 100/100 [00:02<00:00, 44.28it/s]\n",
      "100%|██████████| 100/100 [00:02<00:00, 44.24it/s]\n",
      "100%|██████████| 100/100 [00:02<00:00, 44.33it/s]\n",
      "100%|██████████| 100/100 [00:02<00:00, 44.35it/s]\n",
      "100%|██████████| 100/100 [00:02<00:00, 44.07it/s]\n",
      "100%|██████████| 100/100 [00:02<00:00, 44.45it/s]\n",
      "100%|██████████| 100/100 [00:02<00:00, 43.99it/s]\n",
      "100%|██████████| 100/100 [00:02<00:00, 44.15it/s]\n",
      "100%|██████████| 100/100 [00:02<00:00, 44.37it/s]\n",
      "100%|██████████| 100/100 [00:04<00:00, 14.05it/s]\n",
      "100%|██████████| 100/100 [00:02<00:00, 44.21it/s]\n",
      "100%|██████████| 100/100 [00:02<00:00, 44.24it/s]\n",
      "100%|██████████| 100/100 [00:02<00:00, 44.13it/s]\n",
      "100%|██████████| 100/100 [00:02<00:00, 44.43it/s]\n",
      "100%|██████████| 100/100 [00:02<00:00, 44.16it/s]\n",
      "100%|██████████| 100/100 [00:02<00:00, 44.28it/s]\n",
      "100%|██████████| 100/100 [00:02<00:00, 44.01it/s]\n",
      "100%|██████████| 100/100 [00:04<00:00, 43.61it/s]\n",
      "100%|██████████| 100/100 [00:02<00:00, 44.13it/s]\n",
      "100%|██████████| 100/100 [00:02<00:00, 44.40it/s]\n"
     ]
    },
    {
     "name": "stdout",
     "output_type": "stream",
     "text": [
      "-0.004323059890000036\n"
     ]
    }
   ],
   "source": [
    "trials = [x_run() for i in range(20)]\n",
    "print(1 - 0.01005305989 -sum(trials)/len(trials)) #measured SPAM noise subtracted out."
   ]
  },
  {
   "cell_type": "code",
   "execution_count": 8,
   "metadata": {},
   "outputs": [
    {
     "name": "stderr",
     "output_type": "stream",
     "text": [
      "100%|██████████| 100/100 [00:02<00:00, 44.26it/s]\n",
      "100%|██████████| 100/100 [00:02<00:00, 44.03it/s]\n",
      "100%|██████████| 100/100 [00:02<00:00, 44.06it/s]\n",
      "100%|██████████| 100/100 [00:02<00:00, 44.31it/s]\n",
      "100%|██████████| 100/100 [00:02<00:00, 42.90it/s]\n",
      "100%|██████████| 100/100 [00:02<00:00, 44.03it/s]\n",
      "100%|██████████| 100/100 [00:02<00:00, 44.29it/s]\n",
      "100%|██████████| 100/100 [00:02<00:00, 44.19it/s]\n",
      "100%|██████████| 100/100 [00:11<00:00, 10.21it/s]\n",
      "100%|██████████| 100/100 [00:02<00:00, 44.11it/s]\n",
      "100%|██████████| 100/100 [00:02<00:00, 43.96it/s]\n",
      "100%|██████████| 100/100 [00:02<00:00, 44.20it/s]\n",
      "100%|██████████| 100/100 [00:02<00:00, 43.86it/s]\n",
      "100%|██████████| 100/100 [00:02<00:00, 44.11it/s]\n",
      "100%|██████████| 100/100 [00:02<00:00, 43.99it/s]\n",
      "100%|██████████| 100/100 [00:02<00:00, 44.21it/s]\n",
      "100%|██████████| 100/100 [00:02<00:00, 44.01it/s]\n",
      "100%|██████████| 100/100 [00:02<00:00, 44.00it/s]\n",
      "100%|██████████| 100/100 [00:02<00:00, 43.96it/s]\n",
      "100%|██████████| 100/100 [00:02<00:00, 44.22it/s]\n"
     ]
    },
    {
     "name": "stdout",
     "output_type": "stream",
     "text": [
      "0.018330000000000006\n"
     ]
    }
   ],
   "source": [
    "trials = [hadamard_run() for i in range(20)]\n",
    "print(sum(trials)/len(trials))"
   ]
  },
  {
   "cell_type": "code",
   "execution_count": 9,
   "metadata": {},
   "outputs": [
    {
     "name": "stderr",
     "output_type": "stream",
     "text": [
      "100%|██████████| 100/100 [00:02<00:00, 44.16it/s]\n",
      "100%|██████████| 100/100 [00:02<00:00, 44.37it/s]\n",
      "100%|██████████| 100/100 [00:02<00:00, 44.14it/s]\n",
      "100%|██████████| 100/100 [00:04<00:00, 14.09it/s]\n",
      "100%|██████████| 100/100 [00:02<00:00, 44.16it/s]\n",
      "100%|██████████| 100/100 [00:02<00:00, 44.09it/s]\n",
      "100%|██████████| 100/100 [00:02<00:00, 44.20it/s]\n",
      "100%|██████████| 100/100 [00:02<00:00, 44.03it/s]\n",
      "100%|██████████| 100/100 [00:02<00:00, 43.96it/s]\n",
      "100%|██████████| 100/100 [00:02<00:00, 44.30it/s]\n",
      "100%|██████████| 100/100 [00:02<00:00, 44.40it/s]\n",
      "100%|██████████| 100/100 [00:02<00:00, 44.09it/s]\n",
      "100%|██████████| 100/100 [00:02<00:00, 44.29it/s]\n",
      "100%|██████████| 100/100 [00:02<00:00, 44.12it/s]\n",
      "100%|██████████| 100/100 [00:02<00:00, 44.07it/s]\n",
      "100%|██████████| 100/100 [00:02<00:00, 43.94it/s]\n",
      "100%|██████████| 100/100 [00:02<00:00, 43.93it/s]\n",
      "100%|██████████| 100/100 [00:02<00:00, 44.23it/s]\n",
      "100%|██████████| 100/100 [00:02<00:00, 44.27it/s]\n",
      "100%|██████████| 100/100 [00:02<00:00, 44.06it/s]\n"
     ]
    },
    {
     "name": "stdout",
     "output_type": "stream",
     "text": [
      "0.08744694010999987\n"
     ]
    }
   ],
   "source": [
    "trials = [hadamard_double_run() for i in range(20)]\n",
    "print(1- 0.01005305989 -sum(trials)/len(trials)) # measured SPAM noise subtracted out."
   ]
  },
  {
   "cell_type": "code",
   "execution_count": null,
   "metadata": {},
   "outputs": [],
   "source": []
  },
  {
   "cell_type": "code",
   "execution_count": null,
   "metadata": {},
   "outputs": [],
   "source": []
  },
  {
   "cell_type": "code",
   "execution_count": null,
   "metadata": {},
   "outputs": [],
   "source": []
  },
  {
   "cell_type": "code",
   "execution_count": null,
   "metadata": {},
   "outputs": [],
   "source": []
  },
  {
   "cell_type": "code",
   "execution_count": null,
   "metadata": {},
   "outputs": [],
   "source": []
  }
 ],
 "metadata": {
  "kernelspec": {
   "display_name": "Python 3",
   "language": "python",
   "name": "python3"
  },
  "language_info": {
   "codemirror_mode": {
    "name": "ipython",
    "version": 3
   },
   "file_extension": ".py",
   "mimetype": "text/x-python",
   "name": "python",
   "nbconvert_exporter": "python",
   "pygments_lexer": "ipython3",
   "version": "3.6.5"
  }
 },
 "nbformat": 4,
 "nbformat_minor": 4
}
